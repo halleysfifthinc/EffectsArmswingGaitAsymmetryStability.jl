{
 "cells": [
  {
   "cell_type": "markdown",
   "metadata": {},
   "source": [
    "# Setup"
   ]
  },
  {
   "cell_type": "code",
   "execution_count": null,
   "metadata": {},
   "outputs": [],
   "source": [
    "# Install all necessary packages\n",
    "using Distributed\n",
    "@everywhere using Pkg; @everywhere Pkg.activate(\".\")\n",
    "Pkg.instantiate()\n",
    "using EffectsArmswingGaitAsymmetryStability, Biomechanics, ProgressMeter"
   ]
  },
  {
   "cell_type": "code",
   "execution_count": null,
   "metadata": {},
   "outputs": [],
   "source": [
    "# Add workers for parallel processing\n",
    "prs = addprocs(;topology=:master_worker, exeflags=[\"-O3\", \"--project=@.\"])\n",
    "\n",
    "# Load relevant code on all processes\n",
    "@everywhere using EffectsArmswingGaitAsymmetryStability"
   ]
  },
  {
   "cell_type": "code",
   "execution_count": null,
   "metadata": {},
   "outputs": [],
   "source": [
    "trials = readtrials(\"data\");"
   ]
  },
  {
   "cell_type": "code",
   "execution_count": null,
   "metadata": {},
   "outputs": [],
   "source": [
    "[ (Subject=r[1], numtrials=length(r[2])) for r in [ (sub, findall(t -> t.subject == sub, trials)) for sub in 1:15 ] ]"
   ]
  },
  {
   "cell_type": "markdown",
   "metadata": {},
   "source": [
    "## Main analysis"
   ]
  },
  {
   "cell_type": "code",
   "execution_count": null,
   "metadata": {},
   "outputs": [],
   "source": [
    "# Setup progressmeter and lock\n",
    "pdesc = \"Processing data... \"\n",
    "p = Progress(length(trials)+1; desc=pdesc, barglyphs=BarGlyphs(\"[=>.]\"))\n",
    "uplock = ReentrantLock()"
   ]
  },
  {
   "cell_type": "code",
   "execution_count": null,
   "metadata": {},
   "outputs": [],
   "source": [
    "# Update the progressmeter in a thread-safe manner\n",
    "@everywhere function updateprogress()\n",
    "    lock(uplock)\n",
    "    next!(p)\n",
    "    unlock(uplock)\n",
    "    nothing\n",
    "end\n",
    "\n",
    "# This is used by the workers\n",
    "@everywhere function analyzeandupdate(trial)\n",
    "    numstrides = 125\n",
    "    atrial = analyzetrial(trial, numstrides)\n",
    "    \n",
    "    # Tell the master process to update the progressmeter\n",
    "    remotecall_wait(updateprogress,1)\n",
    "    return atrial\n",
    "end"
   ]
  },
  {
   "cell_type": "code",
   "execution_count": null,
   "metadata": {},
   "outputs": [],
   "source": [
    "# Analyze all trials, don't bail on error\n",
    "next!(p)\n",
    "analyzedtrials = pmap(analyzeandupdate, trials; on_error=identity)\n",
    "finish!(p)"
   ]
  },
  {
   "cell_type": "code",
   "execution_count": null,
   "metadata": {},
   "outputs": [],
   "source": [
    "# Check to see if any perturbations failed (to go back and see why they failed)\n",
    "badtrials = findall(x -> !isa(x, AnalyzedSegment), analyzedtrials)\n",
    "if !isempty(badtrials)\n",
    "    @show badtrials\n",
    "    @show analyzedtrials[badtrials]\n",
    "#     variables = [\n",
    "#         :lambdaS,\n",
    "#         :left_steplavg,\n",
    "#         :left_steplstd,\n",
    "#         :right_steplavg,\n",
    "#         :right_steplstd,\n",
    "#         :stepwavg,\n",
    "#         :stepwstd,\n",
    "#         :rsho_avgrom,\n",
    "#         :lsho_avgrom,\n",
    "#         :rsho_stdrom,\n",
    "#         :lsho_stdrom,\n",
    "#         :swingasym,\n",
    "#         :stepasym_spatial,\n",
    "#         :stepasym_temporal,\n",
    "#         :msdcrp_lsho_rhip,\n",
    "#         :msdcrp_rsho_lhip\n",
    "#     ]\n",
    "#     # NAN the bad trials\n",
    "#     analyzedtrials[badtrials] = [ AnalyzedSegment(Segment(trial, Dict{Symbol,Vector}(), SteadyStateSeg()), \n",
    "#                                                           Dict{Symbol,Any}(( (var, NaN) for var in variables ))) \n",
    "#                                   for trial in trials[badtrials] ]\n",
    "end"
   ]
  },
  {
   "cell_type": "code",
   "execution_count": null,
   "metadata": {},
   "outputs": [],
   "source": [
    "# We don't need the other workers anymore\n",
    "rmprocs(prs)"
   ]
  },
  {
   "cell_type": "markdown",
   "metadata": {},
   "source": [
    "# Generate figure of temporal step asymmetry"
   ]
  },
  {
   "cell_type": "code",
   "execution_count": null,
   "metadata": {},
   "outputs": [],
   "source": [
    "using PlotlyJS, ORCA, Statistics"
   ]
  },
  {
   "cell_type": "code",
   "execution_count": null,
   "metadata": {},
   "outputs": [],
   "source": [
    "means = Dict( sym => Dict( arms => mean(at -> at.results[:stepasym_temporal], \n",
    "                                        filter(at -> at.s.trial.conds[:arms] === arms &&\n",
    "                                                     at.s.trial.conds[:sym] === sym &&\n",
    "                                                     at.s.trial.subject != 1, # Remove outlier\n",
    "                                               analyzedtrials))\n",
    "                  for arms in (:held, :norm, :active) ) \n",
    "              for sym in (:sym, :asym) )\n",
    "\n",
    "stds = Dict( sym => Dict( arms => std([ at.results[:stepasym_temporal] for at in\n",
    "                                      filter(at -> at.s.trial.conds[:arms] === arms &&\n",
    "                                                   at.s.trial.conds[:sym] === sym &&\n",
    "                                                   at.s.trial.subject != 1, # Remove outlier\n",
    "                                             analyzedtrials)]) \n",
    "                  for arms in (:held, :norm, :active) ) \n",
    "              for sym in (:sym, :asym) )"
   ]
  },
  {
   "cell_type": "code",
   "execution_count": null,
   "metadata": {},
   "outputs": [],
   "source": [
    "sym = bar(;\n",
    "    x=[\"Held\", \"Normal\", \"Active\"],\n",
    "    y=map(arms -> means[:sym][arms], (:held, :norm, :active)),\n",
    "    marker_color=\"#1a6499\",\n",
    "    name=\"Symmetric\"\n",
    ")\n",
    "sym[\"error_y\"] = attr(;\n",
    "    array=map(arms -> stds[:sym][arms], (:held, :norm, :active)),\n",
    "    thickness=1\n",
    ")\n",
    "\n",
    "asym = bar(;\n",
    "    x=[\"Held\", \"Normal\", \"Active\"],\n",
    "    y=map(arms -> means[:asym][arms], (:held, :norm, :active)),\n",
    "    marker_color=\"#e36868\",\n",
    "    name=\"Asymmetric\"\n",
    ")\n",
    "asym[\"error_y\"] = attr(;\n",
    "    array=map(arms -> stds[:asym][arms], (:held, :norm, :active)),\n",
    "    thickness=1\n",
    ")\n",
    "\n",
    "l = Layout(;\n",
    "    barmode=\"group\",\n",
    "    bargap=0.3,\n",
    "    bargroupgap=0.05,\n",
    "    xaxis_title=\"Arm Swing Condition\",\n",
    "    yaxis_title=\"Asymmetry\",\n",
    "    \n",
    "    legend=attr(;\n",
    "        x=0.0,\n",
    "        y=1.0,\n",
    "        bgcolor=\"rgba(255, 255, 255, 1)\",\n",
    "        bordercolor=\"rgba(255, 255, 255, 0)\"\n",
    "    )\n",
    ")\n",
    "\n",
    "p = plot([sym, asym], l)"
   ]
  },
  {
   "cell_type": "code",
   "execution_count": null,
   "metadata": {},
   "outputs": [],
   "source": [
    "savefig(p, \"Fig1.svg\")"
   ]
  },
  {
   "cell_type": "markdown",
   "metadata": {},
   "source": [
    "## Results printing setup"
   ]
  },
  {
   "cell_type": "code",
   "execution_count": null,
   "metadata": {},
   "outputs": [],
   "source": [
    "using Statistics, Dates, DelimitedFiles"
   ]
  },
  {
   "cell_type": "code",
   "execution_count": null,
   "metadata": {},
   "outputs": [],
   "source": [
    "# Setup loop variables\n",
    "variables = [\n",
    "    :lambdaS,\n",
    "    :left_steplavg,\n",
    "    :left_steplstd,\n",
    "    :right_steplavg,\n",
    "    :right_steplstd,\n",
    "    :stepwavg,\n",
    "    :stepwstd,\n",
    "    :rsho_avgrom,\n",
    "    :lsho_avgrom,\n",
    "    :rsho_stdrom,\n",
    "    :lsho_stdrom,\n",
    "    :swingasym,\n",
    "    :stepasym_spatial,\n",
    "    :stepasym_temporal,\n",
    "    :msdcrp_lsho_rhip,\n",
    "    :msdcrp_rsho_lhip\n",
    "]\n",
    "armconds = [ :held, :norm, :active ]\n",
    "shortarms = Dict(\n",
    "    :held => \"_he\",\n",
    "    :norm => \"_nr\",\n",
    "    :active => \"_ac\"\n",
    ")\n",
    "symconds = [ :sym, :asym ]\n",
    "shortsym = Dict(\n",
    "    :sym => \"_sy,\",\n",
    "    :asym => \"_as,\"\n",
    ")\n",
    "\n",
    "subs = 1:15\n",
    "numsubs = length(subs)\n",
    "header = 4\n",
    "\n",
    "# Initialize the results string\n",
    "results = Vector{String}(undef, 1)\n",
    "results[1] = \"Analysis of stability, coordination, and symmetry during steady-state walking\\n\""
   ]
  },
  {
   "cell_type": "code",
   "execution_count": null,
   "metadata": {},
   "outputs": [],
   "source": [
    "# Loop through all variables and conditions\n",
    "io = IOBuffer()\n",
    "for vari in eachindex(variables)\n",
    "    subresults = fill(\",\", 4)\n",
    "    R = collect(1:15)\n",
    "    _r = Array{Float64}(undef, numsubs)\n",
    "    for arms in eachindex(armconds), symmetry in eachindex(symconds)\n",
    "        # Only print the variable/condition if it is the first of its type\n",
    "        subresults[1] *= prod([ arms, symmetry ] .== ones(Int,2)) ? string(variables[vari])*\",\" : \",\"\n",
    "        subresults[2] *= (symmetry == one(Int)) ? string(armconds[arms], \",\") : \",\"\n",
    "        subresults[3] *= string(symconds[symmetry], \",\")\n",
    "        subresults[4] *= string(variables[vari])*shortarms[armconds[arms]]*shortsym[symconds[symmetry]]\n",
    "\n",
    "        # Find all trials for this combination of conditions\n",
    "        relevant = findall(analyzedtrials) do at\n",
    "            at.s.trial.conds[:arms] == armconds[arms] &&\n",
    "            at.s.trial.conds[:sym] == symconds[symmetry]\n",
    "        end\n",
    "\n",
    "        for sub in subs\n",
    "            # Find the trial for this particular subject, convert it back to the absolute indices of `analyzedtrials`\n",
    "            # `findfirst` to return a scalar (we know that there should/will only be 1 result)\n",
    "            t = relevant[findfirst(at -> at.s.trial.subject == sub, analyzedtrials[relevant])]\n",
    "\n",
    "            _r[sub] = analyzedtrials[t].results[variables[vari]]\n",
    "        end\n",
    "        \n",
    "        R = [ R _r ]\n",
    "    end\n",
    "\n",
    "    writedlm(io, R, ',')\n",
    "\n",
    "    results = [results; \"\\n\\n\"; subresults; String(take!(io))]\n",
    "end"
   ]
  },
  {
   "cell_type": "markdown",
   "metadata": {},
   "source": [
    "## Write to file"
   ]
  },
  {
   "cell_type": "code",
   "execution_count": null,
   "metadata": {},
   "outputs": [],
   "source": [
    "(path, io) = mktemp()\n",
    "\n",
    "for line in results\n",
    "    println(io, line)\n",
    "end\n",
    "\n",
    "close(io)\n",
    "\n",
    "resfn = abspath(\"results.csv\")\n",
    "\n",
    "mv(path, resfn; force=true)"
   ]
  },
  {
   "cell_type": "code",
   "execution_count": null,
   "metadata": {},
   "outputs": [],
   "source": []
  }
 ],
 "metadata": {
  "@webio": {
   "lastCommId": null,
   "lastKernelId": null
  },
  "kernelspec": {
   "display_name": "Julia 1.1.0",
   "language": "julia",
   "name": "julia-1.1"
  },
  "language_info": {
   "file_extension": ".jl",
   "mimetype": "application/julia",
   "name": "julia",
   "version": "1.1.1"
  }
 },
 "nbformat": 4,
 "nbformat_minor": 2
}
