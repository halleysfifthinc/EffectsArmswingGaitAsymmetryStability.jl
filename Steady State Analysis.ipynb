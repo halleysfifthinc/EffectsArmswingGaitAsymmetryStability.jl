{
 "cells": [
  {
   "cell_type": "markdown",
   "metadata": {},
   "source": [
    "# Setup"
   ]
  },
  {
   "cell_type": "code",
   "execution_count": null,
   "metadata": {},
   "outputs": [],
   "source": [
    "using ProgressMeter, Distributed\n",
    "# Add workers for parallel processing\n",
    "prs = addprocs(;topology=:master_worker, exeflags=\"-O3\")\n",
    "\n",
    "@everywhere using Pkg; @everywhere Pkg.activate(\".\")\n",
    "\n",
    "# Load relevant code on all processes\n",
    "using SteadyStateStability\n",
    "@everywhere using SteadyStateStability"
   ]
  },
  {
   "cell_type": "code",
   "execution_count": null,
   "metadata": {},
   "outputs": [],
   "source": [
    "# Define data location for all processes\n",
    "if Sys.islinux()\n",
    "    diskLoc = \"/media/allen/Seagate Backup Plus Drive/\"\n",
    "elseif Sys.iswindows()\n",
    "   diskLoc = \"F:\\\\\"\n",
    "end\n",
    "\n",
    "rootdir = joinpath(diskLoc, \"projects\", \"Arm-role-stability\")\n",
    "\n",
    "# Read all trials\n",
    "sstrials = readsstrials(rootdir);"
   ]
  },
  {
   "cell_type": "code",
   "execution_count": null,
   "metadata": {},
   "outputs": [],
   "source": [
    "[ (Subject=r[1], numtrials=length(r[2])) for r in [ (sub, findall(t -> t.subject == sub, sstrials)) for sub in 1:15 ] ]"
   ]
  },
  {
   "cell_type": "markdown",
   "metadata": {},
   "source": [
    "## Main analysis"
   ]
  },
  {
   "cell_type": "code",
   "execution_count": null,
   "metadata": {},
   "outputs": [],
   "source": [
    "# Setup progressmeter and lock\n",
    "pdesc = \"Processing data... \"\n",
    "p = Progress(length(sstrials)+1; desc=pdesc, barglyphs=BarGlyphs(\"[=>.]\"))\n",
    "uplock = ReentrantLock()"
   ]
  },
  {
   "cell_type": "code",
   "execution_count": null,
   "metadata": {},
   "outputs": [],
   "source": [
    "# Update the progressmeter in a thread-safe manner\n",
    "@everywhere function updateprogress()\n",
    "    lock(uplock)\n",
    "    next!(p)\n",
    "    unlock(uplock)\n",
    "    nothing\n",
    "end\n",
    "\n",
    "# This is used by the workers\n",
    "@everywhere function analyzeandupdate(trial)\n",
    "    numstrides = 125\n",
    "    atrial = analyzetrial(trial, numstrides)\n",
    "    \n",
    "    # Tell the master process to update the progressmeter\n",
    "    remotecall_wait(updateprogress,1)\n",
    "    return atrial\n",
    "end"
   ]
  },
  {
   "cell_type": "code",
   "execution_count": null,
   "metadata": {},
   "outputs": [],
   "source": [
    "# Analyze all trials, don't bail on error\n",
    "next!(p)\n",
    "analyzedtrials = pmap(analyzeandupdate, sstrials; on_error=identity)\n",
    "finish!(p)"
   ]
  },
  {
   "cell_type": "code",
   "execution_count": null,
   "metadata": {},
   "outputs": [],
   "source": [
    "using Biomechanics"
   ]
  },
  {
   "cell_type": "code",
   "execution_count": null,
   "metadata": {},
   "outputs": [],
   "source": [
    "# Check to see if any perturbations failed (to go back and see why they failed)\n",
    "badtrials = findall(x -> !isa(x, AnalyzedSegment), analyzedtrials)\n",
    "if !isempty(badtrials)\n",
    "    @show badtrials\n",
    "    @show analyzedtrials[badtrials]\n",
    "    variables = [\n",
    "        :lambdaS,\n",
    "        :left_steplavg,\n",
    "        :left_steplstd,\n",
    "        :right_steplavg,\n",
    "        :right_steplstd,\n",
    "        :stepwavg,\n",
    "        :stepwstd,\n",
    "        :rsho_avgrom,\n",
    "        :lsho_avgrom,\n",
    "        :rsho_stdrom,\n",
    "        :lsho_stdrom,\n",
    "        :swingasym,\n",
    "        :stepasym_spatial,\n",
    "        :stepasym_temporal,\n",
    "        :msdcrp_lsho_rhip,\n",
    "        :msdcrp_rsho_lhip\n",
    "    ]\n",
    "    # NAN the bad trials\n",
    "    analyzedtrials[badtrials] = [ AnalyzedSegment(Segment(trial, Dict{Symbol,Vector}(), SteadyStateSeg()), \n",
    "                                                          Dict{Symbol,Any}(( (var, NaN) for var in variables ))) \n",
    "                                  for trial in sstrials[badtrials] ]\n",
    "end"
   ]
  },
  {
   "cell_type": "code",
   "execution_count": null,
   "metadata": {},
   "outputs": [],
   "source": [
    "# We don't need the other workers anymore\n",
    "rmprocs(prs)"
   ]
  },
  {
   "cell_type": "markdown",
   "metadata": {},
   "source": [
    "## Results printing setup"
   ]
  },
  {
   "cell_type": "code",
   "execution_count": null,
   "metadata": {},
   "outputs": [],
   "source": [
    "using Statistics, Dates, DelimitedFiles"
   ]
  },
  {
   "cell_type": "code",
   "execution_count": null,
   "metadata": {},
   "outputs": [],
   "source": [
    "# Setup loop variables\n",
    "variables = [\n",
    "    :lambdaS,\n",
    "    :left_steplavg,\n",
    "    :left_steplstd,\n",
    "    :right_steplavg,\n",
    "    :right_steplstd,\n",
    "    :stepwavg,\n",
    "    :stepwstd,\n",
    "    :rsho_avgrom,\n",
    "    :lsho_avgrom,\n",
    "    :rsho_stdrom,\n",
    "    :lsho_stdrom,\n",
    "    :swingasym,\n",
    "    :stepasym_spatial,\n",
    "    :stepasym_temporal,\n",
    "    :msdcrp_lsho_rhip,\n",
    "    :msdcrp_rsho_lhip\n",
    "]\n",
    "armconds = [ :none, :norm, :excess ]\n",
    "shortarms = Dict(\n",
    "    :norm => \"_nr\",\n",
    "    :none => \"_no\",\n",
    "    :excess => \"_ex\"\n",
    ")\n",
    "symconds = [ :sym, :asym ]\n",
    "shortsym = Dict(\n",
    "    :sym => \"_sy,\",\n",
    "    :asym => \"_as,\"\n",
    ")\n",
    "\n",
    "subs = 1:15\n",
    "numsubs = length(subs)\n",
    "header = 4\n",
    "\n",
    "# Initialize the results string\n",
    "results = Vector{String}(undef, 1)\n",
    "results[1] = \"Analysis of stability, coordination, and symmetry during steady-state walking\\nGenerated: $(now())\\n\""
   ]
  },
  {
   "cell_type": "code",
   "execution_count": null,
   "metadata": {},
   "outputs": [],
   "source": [
    "# Loop through all variables and conditions\n",
    "# Beginning with the variables will keep all the variables chunked together, this will make\n",
    "# the analysis in SPSS easier (all the relevant columns will be somewhat adjacent, limiting\n",
    "# the need for lateral scrolling )\n",
    "io = IOBuffer()\n",
    "for vari in eachindex(variables)\n",
    "    subresults = fill(\",\", 4)\n",
    "    R = collect(1:15)\n",
    "    _r = Array{Float64}(undef, numsubs)\n",
    "    for arms in eachindex(armconds), symmetry in eachindex(symconds)\n",
    "        # Only print the variable/condition if it is the first of its type\n",
    "        subresults[1] *= prod([ arms, symmetry ] .== ones(Int,2)) ? string(variables[vari])*\",\" : \",\"\n",
    "        subresults[2] *= (symmetry == one(Int)) ? string(armconds[arms], \",\") : \",\"\n",
    "        subresults[3] *= string(symconds[symmetry], \",\")\n",
    "        subresults[4] *= string(variables[vari])*shortarms[armconds[arms]]*shortsym[symconds[symmetry]]\n",
    "\n",
    "        # Grab all trials for this combination of conditions\n",
    "        relevant = findall(analyzedtrials) do ass\n",
    "            ass.s.trial.conds[:arms] == armconds[arms] &&\n",
    "            ass.s.trial.conds[:sym] == symconds[symmetry]\n",
    "        end\n",
    "\n",
    "        for sub in subs\n",
    "            # Grab the appropriate trial for this subject\n",
    "            t = filter(ass -> ass.s.trial.subject == sub, analyzedtrials[relevant])[1].results[variables[vari]]\n",
    "\n",
    "            _r[sub] = t\n",
    "        end\n",
    "        \n",
    "        R = [ R _r ]\n",
    "    end\n",
    "\n",
    "    writedlm(io, R, ',')\n",
    "\n",
    "    results = [results; \"\\n\\n\"; subresults; String(take!(io))]\n",
    "end"
   ]
  },
  {
   "cell_type": "markdown",
   "metadata": {},
   "source": [
    "## Write to file"
   ]
  },
  {
   "cell_type": "code",
   "execution_count": null,
   "metadata": {},
   "outputs": [],
   "source": [
    "(path, io) = mktemp()\n",
    "\n",
    "for line in results\n",
    "    println(io, line)\n",
    "end\n",
    "\n",
    "close(io)\n",
    "\n",
    "resfn = joinpath(rootdir, \"results\", \"steady-state.csv\")\n",
    "\n",
    "mv(path, resfn; force=true)"
   ]
  },
  {
   "cell_type": "code",
   "execution_count": null,
   "metadata": {},
   "outputs": [],
   "source": []
  }
 ],
 "metadata": {
  "@webio": {
   "lastCommId": null,
   "lastKernelId": null
  },
  "kernelspec": {
   "display_name": "Julia 1.0.3",
   "language": "julia",
   "name": "julia-1.0"
  },
  "language_info": {
   "file_extension": ".jl",
   "mimetype": "application/julia",
   "name": "julia",
   "version": "1.0.3"
  }
 },
 "nbformat": 4,
 "nbformat_minor": 2
}
