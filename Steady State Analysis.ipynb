{
 "cells": [
  {
   "cell_type": "markdown",
   "metadata": {},
   "source": [
    "# Setup"
   ]
  },
  {
   "cell_type": "code",
   "execution_count": 1,
   "metadata": {},
   "outputs": [
    {
     "name": "stderr",
     "output_type": "stream",
     "text": [
      "┌ Info: Recompiling stale cache file /home/allen/.julia/compiled/v1.0/ArmRole/O2XaH.ji for ArmRole [f6a2469e-950c-11e8-131e-8998aaf96874]\n",
      "└ @ Base loading.jl:1190\n"
     ]
    }
   ],
   "source": [
    "using ProgressMeter, Distributed\n",
    "# Add workers for parallel processing\n",
    "prs = addprocs(;topology=:master_worker, exeflags=\"-O3\")\n",
    "\n",
    "@everywhere using Pkg; @everywhere Pkg.activate(\".\")\n",
    "\n",
    "# Load relevant code on all processes\n",
    "using ArmRoleStability\n",
    "@everywhere using ArmRoleStability"
   ]
  },
  {
   "cell_type": "code",
   "execution_count": 2,
   "metadata": {},
   "outputs": [
    {
     "data": {
      "text/plain": [
       "ReentrantLock(nothing, Condition(Any[]), 0)"
      ]
     },
     "execution_count": 2,
     "metadata": {},
     "output_type": "execute_result"
    }
   ],
   "source": [
    "# Define data location for all processes\n",
    "if Sys.islinux()\n",
    "    diskLoc = \"/media/allen/Seagate Backup Plus Drive/\"\n",
    "#     diskLoc = \"/media/allen/My Book - Master/\"\n",
    "elseif Sys.iswindows()\n",
    "   diskLoc = \"F:\\\\\"\n",
    "end\n",
    "\n",
    "rootdir = joinpath(diskLoc, \"projects\", \"Arm-role-stability\")\n",
    "\n",
    "# Read all perturbations\n",
    "sstrials = readsstrials(rootdir);"
   ]
  },
  {
   "cell_type": "code",
   "execution_count": 3,
   "metadata": {},
   "outputs": [
    {
     "data": {
      "text/plain": [
       "15-element Array{NamedTuple{(:Subject, :numtrials),Tuple{Int64,Int64}},1}:\n",
       " (Subject = 1, numtrials = 6) \n",
       " (Subject = 2, numtrials = 6) \n",
       " (Subject = 3, numtrials = 6) \n",
       " (Subject = 4, numtrials = 6) \n",
       " (Subject = 5, numtrials = 6) \n",
       " (Subject = 6, numtrials = 6) \n",
       " (Subject = 7, numtrials = 6) \n",
       " (Subject = 8, numtrials = 6) \n",
       " (Subject = 9, numtrials = 6) \n",
       " (Subject = 10, numtrials = 6)\n",
       " (Subject = 11, numtrials = 6)\n",
       " (Subject = 12, numtrials = 6)\n",
       " (Subject = 13, numtrials = 6)\n",
       " (Subject = 14, numtrials = 6)\n",
       " (Subject = 15, numtrials = 6)"
      ]
     },
     "execution_count": 3,
     "metadata": {},
     "output_type": "execute_result"
    }
   ],
   "source": [
    "[ (Subject=r[1], numtrials=length(r[2])) for r in [ (sub, findall(t -> t.subject == sub, sstrials)) for sub in 1:15 ] ]"
   ]
  },
  {
   "cell_type": "markdown",
   "metadata": {},
   "source": [
    "## Main analysis"
   ]
  },
  {
   "cell_type": "code",
   "execution_count": null,
   "metadata": {},
   "outputs": [],
   "source": [
    "# Setup progressmeter and lock\n",
    "pdesc = \"Processing data... \"\n",
    "p = Progress(length(sstrials)+1; desc=pdesc, barglyphs=BarGlyphs(\"[=>.]\"))\n",
    "uplock = ReentrantLock()"
   ]
  },
  {
   "cell_type": "code",
   "execution_count": 4,
   "metadata": {},
   "outputs": [],
   "source": [
    "# Update the progressmeter in a thread-safe manner\n",
    "@everywhere function updateprogress()\n",
    "    lock(uplock)\n",
    "    next!(p)\n",
    "    unlock(uplock)\n",
    "    nothing\n",
    "end\n",
    "\n",
    "# This is used by the workers\n",
    "@everywhere function analyzeandupdate(trial)\n",
    "    numstrides = 125\n",
    "    atrial = analyzetrial(trial, numstrides)\n",
    "    \n",
    "    # Tell the master process to update the progressmeter\n",
    "    remotecall_wait(updateprogress,1)\n",
    "    return atrial\n",
    "end"
   ]
  },
  {
   "cell_type": "code",
   "execution_count": 5,
   "metadata": {},
   "outputs": [
    {
     "name": "stderr",
     "output_type": "stream",
     "text": [
      "\u001b[32mProcessing data... 100%[================================] Time: 0:01:18\u001b[39m\n"
     ]
    }
   ],
   "source": [
    "# Fit all the perturbations, don't quit on an error, add it to the results\n",
    "next!(p)\n",
    "analyzedtrials = pmap(analyzeandupdate, sstrials; on_error=identity)\n",
    "finish!(p)"
   ]
  },
  {
   "cell_type": "code",
   "execution_count": 6,
   "metadata": {},
   "outputs": [],
   "source": [
    "using Biomechanics"
   ]
  },
  {
   "cell_type": "code",
   "execution_count": 8,
   "metadata": {},
   "outputs": [],
   "source": [
    "# Check to see if any perturbations failed (to go back and see why they failed)\n",
    "badtrials = findall(x -> !isa(x, AnalyzedSegment), analyzedtrials)\n",
    "if !isempty(badtrials)\n",
    "    @show badtrials\n",
    "    @show analyzedtrials[badtrials]\n",
    "    variables = [\n",
    "        :lambdaS,\n",
    "        :left_steplavg,\n",
    "        :left_steplstd,\n",
    "        :right_steplavg,\n",
    "        :right_steplstd,\n",
    "        :stepwavg,\n",
    "        :stepwstd,\n",
    "        :rsho_avgrom,\n",
    "        :lsho_avgrom,\n",
    "        :rsho_stdrom,\n",
    "        :lsho_stdrom,\n",
    "        :swingasym,\n",
    "        :stepasym_spatial,\n",
    "        :stepasym_temporal,\n",
    "        :msdcrp_lsho_rhip,\n",
    "        :msdcrp_rsho_lhip\n",
    "    ]\n",
    "    # NAN the bad trials\n",
    "    analyzedtrials[badtrials] = [ AnalyzedSegment(Segment(trial, Dict{Symbol,Vector}(), ArmRoleSeg()), \n",
    "                                                          Dict{Symbol,Any}(( (var, NaN) for var in variables ))) \n",
    "                                  for trial in sstrials[badtrials] ]\n",
    "end"
   ]
  },
  {
   "cell_type": "code",
   "execution_count": 9,
   "metadata": {},
   "outputs": [
    {
     "data": {
      "text/plain": [
       "Task (done) @0x00007f4d616679d0"
      ]
     },
     "execution_count": 9,
     "metadata": {},
     "output_type": "execute_result"
    }
   ],
   "source": [
    "# We don't need the other workers anymore\n",
    "rmprocs(prs)"
   ]
  },
  {
   "cell_type": "markdown",
   "metadata": {},
   "source": [
    "## Results printing setup"
   ]
  },
  {
   "cell_type": "code",
   "execution_count": 10,
   "metadata": {},
   "outputs": [],
   "source": [
    "using Statistics, Dates, DelimitedFiles"
   ]
  },
  {
   "cell_type": "code",
   "execution_count": 11,
   "metadata": {},
   "outputs": [
    {
     "data": {
      "text/plain": [
       "\"Analysis of trunk motion during steady-state walking\\nGenerated: 2019-02-04T14:20:56.387\\n\""
      ]
     },
     "execution_count": 11,
     "metadata": {},
     "output_type": "execute_result"
    }
   ],
   "source": [
    "# Setup loop variables\n",
    "variables = [\n",
    "    :lambdaS,\n",
    "    :left_steplavg,\n",
    "    :left_steplstd,\n",
    "    :right_steplavg,\n",
    "    :right_steplstd,\n",
    "    :stepwavg,\n",
    "    :stepwstd,\n",
    "    :rsho_avgrom,\n",
    "    :lsho_avgrom,\n",
    "    :rsho_stdrom,\n",
    "    :lsho_stdrom,\n",
    "    :swingasym,\n",
    "    :stepasym_spatial,\n",
    "    :stepasym_temporal,\n",
    "    :msdcrp_lsho_rhip,\n",
    "    :msdcrp_rsho_lhip\n",
    "]\n",
    "armconds = [ :none, :norm, :excess ]\n",
    "shortarms = Dict(\n",
    "    :norm => \"_nr\",\n",
    "    :none => \"_no\",\n",
    "    :excess => \"_ex\"\n",
    ")\n",
    "symconds = [ :sym, :asym ]\n",
    "shortsym = Dict(\n",
    "    :sym => \"_sy,\",\n",
    "    :asym => \"_as,\"\n",
    ")\n",
    "\n",
    "subs = 1:15\n",
    "numsubs = length(subs)\n",
    "header = 4\n",
    "\n",
    "# Initialize the results string\n",
    "results = Vector{String}(undef, 1)\n",
    "results[1] = \"Analysis of trunk motion during steady-state walking\\nGenerated: $(now())\\n\""
   ]
  },
  {
   "cell_type": "code",
   "execution_count": 12,
   "metadata": {},
   "outputs": [],
   "source": [
    "# Create views for repeatedly used parts of the results\n",
    "\n",
    "# subresults = view(results, (header+1):length(results))\n",
    "\n",
    "# Loop through all variables and conditions\n",
    "# Beginning with the variables will keep all the variables chunked together, this will make\n",
    "# the analysis in SPSS easier (all the relevant columns will be somewhat adjacent, limiting\n",
    "# the need for lateral scrolling )\n",
    "io = IOBuffer()\n",
    "for vari in eachindex(variables)\n",
    "    subresults = fill(\",\", 4)\n",
    "    R = collect(1:15)\n",
    "    _r = Array{Float64}(undef, numsubs)\n",
    "    for arms in eachindex(armconds), symmetry in eachindex(symconds)\n",
    "        # Only print the variable/condition if it is the first of its type; this will allow a\n",
    "        # merged cell to be created to encompass all the columns below with that condition\n",
    "        subresults[1] *= prod([ arms, symmetry ] .== ones(Int,2)) ? string(variables[vari])*\",\" : \",\"\n",
    "        subresults[2] *= (symmetry == one(Int)) ? string(armconds[arms], \",\") : \",\"\n",
    "        subresults[3] *= string(symconds[symmetry], \",\")\n",
    "        subresults[4] *= string(variables[vari])*shortarms[armconds[arms]]*shortsym[symconds[symmetry]]\n",
    "\n",
    "        # Grab all the perturbations for this combination of conditions\n",
    "        relevant = findall(analyzedtrials) do ass\n",
    "            ass.s.trial.conds[:arms] == armconds[arms] &&\n",
    "            ass.s.trial.conds[:sym] == symconds[symmetry]\n",
    "        end\n",
    "\n",
    "        # Add the average value for the current variable (eg A, B, etc.) to each subject\n",
    "        # Nasty/ugly because it is so dense/concise; I think it is better than how verbose the\n",
    "        # alternative would be\n",
    "        # The array comprehension runs the inner nastiness for each subject\n",
    "        \n",
    "        for sub in subs\n",
    "            # The generator expression is outputting the current variable (eg A, B, etc) for all\n",
    "            # the relevant perturbations for the current subject\n",
    "            # The function chain averages the array from the generator expression, and then\n",
    "            # creates a string representation\n",
    "            t = filter(ass -> ass.s.trial.subject == sub, analyzedtrials[relevant])[1].results[variables[vari]]\n",
    "\n",
    "            _r[sub] = t\n",
    "        end\n",
    "        \n",
    "        R = [ R _r ]\n",
    "    end\n",
    "\n",
    "    writedlm(io, R, ',')\n",
    "\n",
    "    results = [results; \"\\n\\n\"; subresults; String(take!(io))]\n",
    "end"
   ]
  },
  {
   "cell_type": "markdown",
   "metadata": {},
   "source": [
    "## Write to file"
   ]
  },
  {
   "cell_type": "code",
   "execution_count": 13,
   "metadata": {},
   "outputs": [
    {
     "data": {
      "text/plain": [
       "\"/media/allen/Seagate Backup Plus Drive/projects/Arm-role-stability/results/cezar-steady-state-step_spatiotemporal.csv\""
      ]
     },
     "execution_count": 13,
     "metadata": {},
     "output_type": "execute_result"
    }
   ],
   "source": [
    "(path, io) = mktemp()\n",
    "\n",
    "for line in results\n",
    "    println(io, line)\n",
    "end\n",
    "\n",
    "close(io)\n",
    "\n",
    "resfn = joinpath(rootdir, \"results\", \"steady-state_test.csv\")\n",
    "\n",
    "mv(path, resfn; force=true)"
   ]
  },
  {
   "cell_type": "code",
   "execution_count": null,
   "metadata": {},
   "outputs": [],
   "source": []
  }
 ],
 "metadata": {
  "@webio": {
   "lastCommId": "ac1c873357f0472f818145a6f88ed5d1",
   "lastKernelId": "e3082fa6-bc5d-4e3c-b8d6-16231fb682f0"
  },
  "kernelspec": {
   "display_name": "Julia 1.0.3",
   "language": "julia",
   "name": "julia-1.0"
  },
  "language_info": {
   "file_extension": ".jl",
   "mimetype": "application/julia",
   "name": "julia",
   "version": "1.0.3"
  }
 },
 "nbformat": 4,
 "nbformat_minor": 2
}
